{
    "cells": [
        {
            "cell_type": "code",
            "execution_count": 1,
            "metadata": {},
            "outputs": [],
            "source": "###Deah_Valley temperature data Table"
        },
        {
            "cell_type": "code",
            "execution_count": 2,
            "metadata": {},
            "outputs": [
                {
                    "data": {
                        "text/html": "<div>\n<style scoped>\n    .dataframe tbody tr th:only-of-type {\n        vertical-align: middle;\n    }\n\n    .dataframe tbody tr th {\n        vertical-align: top;\n    }\n\n    .dataframe thead th {\n        text-align: right;\n    }\n</style>\n<table border=\"1\" class=\"dataframe\">\n  <thead>\n    <tr style=\"text-align: right;\">\n      <th></th>\n      <th>STATION</th>\n      <th>NAME</th>\n      <th>DATE</th>\n      <th>PRCP</th>\n      <th>TMAX</th>\n      <th>TMIN</th>\n      <th>TOBS</th>\n    </tr>\n  </thead>\n  <tbody>\n    <tr>\n      <th>0</th>\n      <td>USC00042319</td>\n      <td>DEATH VALLEY, CA US</td>\n      <td>2018-01-01</td>\n      <td>0.0</td>\n      <td>65.0</td>\n      <td>34.0</td>\n      <td>42.0</td>\n    </tr>\n    <tr>\n      <th>1</th>\n      <td>USC00042319</td>\n      <td>DEATH VALLEY, CA US</td>\n      <td>2018-01-02</td>\n      <td>0.0</td>\n      <td>61.0</td>\n      <td>38.0</td>\n      <td>46.0</td>\n    </tr>\n    <tr>\n      <th>2</th>\n      <td>USC00042319</td>\n      <td>DEATH VALLEY, CA US</td>\n      <td>2018-01-03</td>\n      <td>0.0</td>\n      <td>69.0</td>\n      <td>34.0</td>\n      <td>54.0</td>\n    </tr>\n    <tr>\n      <th>3</th>\n      <td>USC00042319</td>\n      <td>DEATH VALLEY, CA US</td>\n      <td>2018-01-04</td>\n      <td>0.0</td>\n      <td>69.0</td>\n      <td>39.0</td>\n      <td>48.0</td>\n    </tr>\n    <tr>\n      <th>4</th>\n      <td>USC00042319</td>\n      <td>DEATH VALLEY, CA US</td>\n      <td>2018-01-05</td>\n      <td>0.0</td>\n      <td>74.0</td>\n      <td>40.0</td>\n      <td>57.0</td>\n    </tr>\n  </tbody>\n</table>\n</div>",
                        "text/plain": "       STATION                 NAME        DATE  PRCP  TMAX  TMIN  TOBS\n0  USC00042319  DEATH VALLEY, CA US  2018-01-01   0.0  65.0  34.0  42.0\n1  USC00042319  DEATH VALLEY, CA US  2018-01-02   0.0  61.0  38.0  46.0\n2  USC00042319  DEATH VALLEY, CA US  2018-01-03   0.0  69.0  34.0  54.0\n3  USC00042319  DEATH VALLEY, CA US  2018-01-04   0.0  69.0  39.0  48.0\n4  USC00042319  DEATH VALLEY, CA US  2018-01-05   0.0  74.0  40.0  57.0"
                    },
                    "execution_count": 2,
                    "metadata": {},
                    "output_type": "execute_result"
                }
            ],
            "source": "# The code was removed by Watson Studio for sharing."
        },
        {
            "cell_type": "code",
            "execution_count": null,
            "metadata": {},
            "outputs": [],
            "source": ""
        }
    ],
    "metadata": {
        "kernelspec": {
            "display_name": "Python 3.7",
            "language": "python",
            "name": "python3"
        },
        "language_info": {
            "codemirror_mode": {
                "name": "ipython",
                "version": 3
            },
            "file_extension": ".py",
            "mimetype": "text/x-python",
            "name": "python",
            "nbconvert_exporter": "python",
            "pygments_lexer": "ipython3",
            "version": "3.7.9"
        }
    },
    "nbformat": 4,
    "nbformat_minor": 1
}